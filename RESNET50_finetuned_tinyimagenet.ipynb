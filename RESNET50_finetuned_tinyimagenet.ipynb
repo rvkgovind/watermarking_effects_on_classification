{
  "nbformat": 4,
  "nbformat_minor": 0,
  "metadata": {
    "colab": {
      "name": "VGG16_finetuned_tinyimagenet.ipynb",
      "version": "0.3.2",
      "provenance": [],
      "collapsed_sections": [],
      "include_colab_link": true
    },
    "kernelspec": {
      "name": "python3",
      "display_name": "Python 3"
    },
    "accelerator": "GPU"
  },
  "cells": [
    {
      "cell_type": "markdown",
      "metadata": {
        "id": "view-in-github",
        "colab_type": "text"
      },
      "source": [
        "<a href=\"https://colab.research.google.com/github/rvkgovind/watermarking_effects_on_classification/blob/master/RESNET50_finetuned_tinyimagenet.ipynb\" target=\"_parent\"><img src=\"https://colab.research.google.com/assets/colab-badge.svg\" alt=\"Open In Colab\"/></a>"
      ]
    },
    {
      "metadata": {
        "id": "zgvvYEGxJSoP",
        "colab_type": "code",
        "outputId": "789e324d-d87b-4d11-b6e2-af4a868dbdd5",
        "colab": {
          "base_uri": "https://localhost:8080/",
          "height": 34
        }
      },
      "cell_type": "code",
      "source": [
        "from google.colab import drive\n",
        "drive.mount('/content/drive')"
      ],
      "execution_count": 1,
      "outputs": [
        {
          "output_type": "stream",
          "text": [
            "Drive already mounted at /content/drive; to attempt to forcibly remount, call drive.mount(\"/content/drive\", force_remount=True).\n"
          ],
          "name": "stdout"
        }
      ]
    },
    {
      "metadata": {
        "id": "Z1kjG0avOgJY",
        "colab_type": "code",
        "colab": {}
      },
      "cell_type": "code",
      "source": [
        ""
      ],
      "execution_count": 0,
      "outputs": []
    },
    {
      "metadata": {
        "id": "pkZleQ0aPesg",
        "colab_type": "code",
        "colab": {}
      },
      "cell_type": "code",
      "source": [
        ""
      ],
      "execution_count": 0,
      "outputs": []
    },
    {
      "metadata": {
        "id": "KifRY__IPew_",
        "colab_type": "code",
        "colab": {}
      },
      "cell_type": "code",
      "source": [
        ""
      ],
      "execution_count": 0,
      "outputs": []
    },
    {
      "metadata": {
        "id": "4AUYbIWqJaJt",
        "colab_type": "code",
        "outputId": "649c7586-7b7b-4f57-bc50-ce7d4da443f4",
        "colab": {
          "base_uri": "https://localhost:8080/",
          "height": 34
        }
      },
      "cell_type": "code",
      "source": [
        "#already downloaded \n",
        "import os\n",
        "import zipfile#python lib for zipfile extraction and zipping files\n",
        "import requests#python libraary for http requests\n",
        "import io \n",
        "\n",
        "TRAINING_IMAGES_DIR = './tiny-imagenet-200/train/'\n",
        "VAL_IMAGES_DIR = './tiny-imagenet-200/val/'\n",
        "IMAGES_URL = 'http://cs231n.stanford.edu/tiny-imagenet-200.zip'\n",
        "def download_images(url):\n",
        "    if (os.path.isdir(TRAINING_IMAGES_DIR)):\n",
        "        print ('Images already downloaded...')\n",
        "        return\n",
        "    r = requests.get(url, stream=True)\n",
        "    print ('Downloading ' + url )\n",
        "    zip_ref = zipfile.ZipFile(io.BytesIO(r.content))\n",
        "    zip_ref.extractall('./')\n",
        "    zip_ref.close()\n",
        "    print('YAY...! downloaded')\n",
        "download_images(IMAGES_URL)\n"
      ],
      "execution_count": 2,
      "outputs": [
        {
          "output_type": "stream",
          "text": [
            "Images already downloaded...\n"
          ],
          "name": "stdout"
        }
      ]
    },
    {
      "metadata": {
        "id": "JxeCVvHcKdsb",
        "colab_type": "code",
        "colab": {}
      },
      "cell_type": "code",
      "source": [
        "import numpy as np\n",
        "from PIL import Image\n",
        "import os\n",
        "\n",
        "def load_images(path,num_classes):\n",
        "    #Load images\n",
        "    \n",
        "    print('Loading ' + str(num_classes) + ' classes')\n",
        "\n",
        "    X_train=np.zeros([num_classes*500,3,64,64],dtype='uint8')\n",
        "    y_train=np.zeros([num_classes*500], dtype='uint8')\n",
        "\n",
        "    trainPath=path+'/train'\n",
        "\n",
        "    print('loading training images...');\n",
        "\n",
        "    i=0\n",
        "    j=0\n",
        "    annotations={}\n",
        "    for sChild in os.listdir(trainPath):\n",
        "        sChildPath = os.path.join(os.path.join(trainPath,sChild),'images')\n",
        "        annotations[sChild]=j\n",
        "        for c in os.listdir(sChildPath):\n",
        "            X=np.array(Image.open(os.path.join(sChildPath,c)))\n",
        "            if len(np.shape(X))==2:\n",
        "                X_train[i]=np.array([X,X,X])\n",
        "            else:\n",
        "                X_train[i]=np.transpose(X,(2,0,1))\n",
        "            y_train[i]=j\n",
        "            i+=1\n",
        "        j+=1\n",
        "        if (j >= num_classes):\n",
        "            break\n",
        "\n",
        "    print('finished loading training images')\n",
        "\n",
        "    val_annotations_map = get_annotations_map()\n",
        "\n",
        "    X_test = np.zeros([num_classes*50,3,64,64],dtype='uint8')\n",
        "    y_test = np.zeros([num_classes*50], dtype='uint8')\n",
        "\n",
        "\n",
        "    print('loading test images...')\n",
        "\n",
        "    i = 0\n",
        "    testPath=path+'/val/images'\n",
        "    for sChild in os.listdir(testPath):\n",
        "        if val_annotations_map[sChild] in annotations.keys():\n",
        "            sChildPath = os.path.join(testPath, sChild)\n",
        "            X=np.array(Image.open(sChildPath))\n",
        "            if len(np.shape(X))==2:\n",
        "                X_test[i]=np.array([X,X,X])\n",
        "            else:\n",
        "                X_test[i]=np.transpose(X,(2,0,1))\n",
        "            y_test[i]=annotations[val_annotations_map[sChild]]\n",
        "            i+=1\n",
        "        else:\n",
        "            pass\n",
        "\n",
        "\n",
        "    print('finished loading test images')\n",
        "\n",
        "    return X_train,y_train,X_test,y_test\n",
        "\n",
        "\n",
        "def get_annotations_map():\n",
        "\tvalAnnotationsPath = './tiny-imagenet-200/val/val_annotations.txt'\n",
        "\tvalAnnotationsFile = open(valAnnotationsPath, 'r')\n",
        "\tvalAnnotationsContents = valAnnotationsFile.read()\n",
        "\tvalAnnotations = {}\n",
        "\n",
        "\tfor line in valAnnotationsContents.splitlines():\n",
        "\t\tpieces = line.strip().split()\n",
        "\t\tvalAnnotations[pieces[0]] = pieces[1]\n",
        "\n",
        "\treturn valAnnotations"
      ],
      "execution_count": 0,
      "outputs": []
    },
    {
      "metadata": {
        "id": "SUiIcvyePPPU",
        "colab_type": "code",
        "outputId": "fda50555-4e3a-4ecf-fb22-67e2eec74838",
        "colab": {
          "base_uri": "https://localhost:8080/",
          "height": 170
        }
      },
      "cell_type": "code",
      "source": [
        "[X_train,y_train,X_test,y_test]=load_images('./tiny-imagenet-200',20)\n",
        "print('X_train:'+ str(X_train.shape))\n",
        "print('y_train:'+ str(y_train.shape))\n",
        "print('X_test:'+ str(X_test.shape))\n",
        "print('y_test:'+ str(y_test.shape))"
      ],
      "execution_count": 4,
      "outputs": [
        {
          "output_type": "stream",
          "text": [
            "Loading 20 classes\n",
            "loading training images...\n",
            "finished loading training images\n",
            "loading test images...\n",
            "finished loading test images\n",
            "X_train:(10000, 3, 64, 64)\n",
            "y_train:(10000,)\n",
            "X_test:(1000, 3, 64, 64)\n",
            "y_test:(1000,)\n"
          ],
          "name": "stdout"
        }
      ]
    },
    {
      "metadata": {
        "id": "PbpZwlr5h_HV",
        "colab_type": "code",
        "outputId": "bf2f4cfb-da31-4ec1-9260-6d914925fd6a",
        "colab": {
          "base_uri": "https://localhost:8080/",
          "height": 34
        }
      },
      "cell_type": "code",
      "source": [
        "#extract bottleneck feature from VGG16\n",
        "import keras\n",
        "import numpy as np\n",
        "from keras.applications import ResNet50\n",
        "from keras.applications.vgg16 import preprocess_input\n",
        "import scipy\n",
        "from scipy import misc\n",
        "import os\n",
        "from keras.callbacks import ModelCheckpoint   \n",
        "from keras.models import Sequential\n",
        "from keras.layers import Dense, Dropout, Conv2D, GlobalAveragePooling2D"
      ],
      "execution_count": 5,
      "outputs": [
        {
          "output_type": "stream",
          "text": [
            "Using TensorFlow backend.\n"
          ],
          "name": "stderr"
        }
      ]
    },
    {
      "metadata": {
        "id": "XuHf-9oha8xQ",
        "colab_type": "code",
        "outputId": "f0e427ea-27d3-49f2-ef5c-6525e3553168",
        "colab": {
          "base_uri": "https://localhost:8080/",
          "height": 122
        }
      },
      "cell_type": "code",
      "source": [
        "\n",
        "y_train = np.squeeze(y_train)\n",
        "# build the VGG16 network\n",
        "model = Sequential()\n",
        "model.add(ResNet50(include_top=False, weights='imagenet'))\n",
        "#model.add(GlobalAveragePooling2D())\n",
        "#get the model from the keras.model.applications without the fully connected layers\n",
        "#with the pretrained weights"
      ],
      "execution_count": 6,
      "outputs": [
        {
          "output_type": "stream",
          "text": [
            "WARNING:tensorflow:From /usr/local/lib/python3.6/dist-packages/tensorflow/python/framework/op_def_library.py:263: colocate_with (from tensorflow.python.framework.ops) is deprecated and will be removed in a future version.\n",
            "Instructions for updating:\n",
            "Colocations handled automatically by placer.\n"
          ],
          "name": "stdout"
        },
        {
          "output_type": "stream",
          "text": [
            "/usr/local/lib/python3.6/dist-packages/keras_applications/resnet50.py:265: UserWarning: The output shape of `ResNet50(include_top=False)` has been changed since Keras 2.2.0.\n",
            "  warnings.warn('The output shape of `ResNet50(include_top=False)` '\n"
          ],
          "name": "stderr"
        }
      ]
    },
    {
      "metadata": {
        "id": "7K-Usi2pl3D7",
        "colab_type": "code",
        "outputId": "05ac545d-a586-4df9-8897-838f3c8fc6a2",
        "colab": {
          "base_uri": "https://localhost:8080/",
          "height": 170
        }
      },
      "cell_type": "code",
      "source": [
        "model.summary()"
      ],
      "execution_count": 7,
      "outputs": [
        {
          "output_type": "stream",
          "text": [
            "_________________________________________________________________\n",
            "Layer (type)                 Output Shape              Param #   \n",
            "=================================================================\n",
            "resnet50 (Model)             (None, None, None, 2048)  23587712  \n",
            "=================================================================\n",
            "Total params: 23,587,712\n",
            "Trainable params: 23,534,592\n",
            "Non-trainable params: 53,120\n",
            "_________________________________________________________________\n"
          ],
          "name": "stdout"
        }
      ]
    },
    {
      "metadata": {
        "id": "uaGSZBydiFZT",
        "colab_type": "code",
        "outputId": "4d6ec4aa-31b0-4cf9-8e11-170e7dca8033",
        "colab": {
          "base_uri": "https://localhost:8080/",
          "height": 51
        }
      },
      "cell_type": "code",
      "source": [
        "# obtain bottleneck features (train)\n",
        "if os.path.exists('vgg16_features_train.npz'):\n",
        "    print('bottleneck features detected (train)')\n",
        "    features = np.load('vgg16_features_train.npz')['features']\n",
        "else:\n",
        "    print('bottleneck features file not detected (train)')\n",
        "    print('calculating now ...')\n",
        "    # pre-process the train data\n",
        "    big_x_train = np.array([scipy.misc.imresize(X_train[i], (224, 224, 3)) \n",
        "                            for i in range(0, len(X_train))]).astype('float32')\n",
        "    vgg_input_train = preprocess_input(big_x_train)\n",
        "    print('train data preprocessed')\n",
        "    # extract, process, and save bottleneck features\n",
        "    features = model.predict(vgg_input_train)\n",
        "    features = np.squeeze(features)\n",
        "    np.savez('vgg16_features_train', features=features)\n",
        "print('bottleneck features saved (train)')"
      ],
      "execution_count": 8,
      "outputs": [
        {
          "output_type": "stream",
          "text": [
            "bottleneck features detected (train)\n",
            "bottleneck features saved (train)\n"
          ],
          "name": "stdout"
        }
      ]
    },
    {
      "metadata": {
        "id": "CAMvkQN_o4ra",
        "colab_type": "code",
        "colab": {}
      },
      "cell_type": "code",
      "source": [
        ""
      ],
      "execution_count": 0,
      "outputs": []
    },
    {
      "metadata": {
        "id": "iLA2smPHpW1Q",
        "colab_type": "code",
        "outputId": "521fc8c1-7724-41bb-b798-544e07eccd74",
        "colab": {
          "base_uri": "https://localhost:8080/",
          "height": 136
        }
      },
      "cell_type": "code",
      "source": [
        "# obtain bottleneck features (test)\n",
        "if os.path.exists('vgg16_features_test.npz'):\n",
        "    print('bottleneck features detected (test)')\n",
        "    features_test = np.load('vgg16_features_test.npz')['features_test']\n",
        "else:\n",
        "    print('bottleneck features file not detected (test)')\n",
        "    print('calculating now ...')\n",
        "    # pre-process the test data\n",
        "    big_x_test = np.array([scipy.misc.imresize(X_test[i], (224, 224, 3)) \n",
        "                       for i in range(0, len(X_test))]).astype('float32')\n",
        "    vgg16_input_test = preprocess_input(big_x_test)\n",
        "    # extract, process, and save bottleneck features (test)\n",
        "    features_test = model.predict(vgg16_input_test)\n",
        "    features_test = np.squeeze(features_test)\n",
        "    np.savez('vgg16_features_test', features_test=features_test)\n",
        "print('bottleneck features saved (test)')"
      ],
      "execution_count": 9,
      "outputs": [
        {
          "output_type": "stream",
          "text": [
            "bottleneck features file not detected (test)\n",
            "calculating now ...\n"
          ],
          "name": "stdout"
        },
        {
          "output_type": "stream",
          "text": [
            "/usr/local/lib/python3.6/dist-packages/ipykernel_launcher.py:9: DeprecationWarning: `imresize` is deprecated!\n",
            "`imresize` is deprecated in SciPy 1.0.0, and will be removed in 1.3.0.\n",
            "Use Pillow instead: ``numpy.array(Image.fromarray(arr).resize())``.\n",
            "  if __name__ == '__main__':\n"
          ],
          "name": "stderr"
        },
        {
          "output_type": "stream",
          "text": [
            "bottleneck features saved (test)\n"
          ],
          "name": "stdout"
        }
      ]
    },
    {
      "metadata": {
        "id": "ox_WMPZNpZMM",
        "colab_type": "code",
        "colab": {}
      },
      "cell_type": "code",
      "source": [
        "y_train = np.squeeze(y_train)"
      ],
      "execution_count": 0,
      "outputs": []
    },
    {
      "metadata": {
        "id": "GikgJaI0uknN",
        "colab_type": "code",
        "colab": {}
      },
      "cell_type": "code",
      "source": [
        "from keras.utils import np_utils\n",
        "\n",
        "# one-hot encode the labels\n",
        "y_train = np_utils.to_categorical(y_train,20 )\n",
        "y_test = np_utils.to_categorical(y_test, 20)"
      ],
      "execution_count": 0,
      "outputs": []
    },
    {
      "metadata": {
        "id": "APUYlsdvlvPa",
        "colab_type": "code",
        "outputId": "ed7acd72-974c-4f84-e4a8-eb2ee4677f41",
        "colab": {
          "base_uri": "https://localhost:8080/",
          "height": 170
        }
      },
      "cell_type": "code",
      "source": [
        "model.summary()"
      ],
      "execution_count": 12,
      "outputs": [
        {
          "output_type": "stream",
          "text": [
            "_________________________________________________________________\n",
            "Layer (type)                 Output Shape              Param #   \n",
            "=================================================================\n",
            "resnet50 (Model)             (None, None, None, 2048)  23587712  \n",
            "=================================================================\n",
            "Total params: 23,587,712\n",
            "Trainable params: 23,534,592\n",
            "Non-trainable params: 53,120\n",
            "_________________________________________________________________\n"
          ],
          "name": "stdout"
        }
      ]
    },
    {
      "metadata": {
        "id": "CZcdYck2u15j",
        "colab_type": "code",
        "outputId": "13f50893-0911-4f91-c5b2-ca0c490c9147",
        "colab": {
          "base_uri": "https://localhost:8080/",
          "height": 3573
        }
      },
      "cell_type": "code",
      "source": [
        "model = Sequential()\n",
        "model.add(GlobalAveragePooling2D())\n",
        "model.add(Dense(400, activation='relu'))\n",
        "model.add(Dropout(0.5))\n",
        "model.add(Dense(20,activation='softmax'))\n",
        "\n",
        "model.compile(optimizer='rmsprop',\n",
        "              loss='categorical_crossentropy', metrics=['accuracy'])\n",
        "\n",
        "\n",
        "checkpointer = ModelCheckpoint(filepath='model.best.hdf5', \n",
        "                               verbose=1, save_best_only=True)\n",
        "model.fit(features, y_train,\n",
        "              epochs=50,\n",
        "              batch_size=64,\n",
        "              validation_data=(features_test, y_test),verbose=1,callbacks=[checkpointer])\n"
      ],
      "execution_count": 13,
      "outputs": [
        {
          "output_type": "stream",
          "text": [
            "WARNING:tensorflow:From /usr/local/lib/python3.6/dist-packages/keras/backend/tensorflow_backend.py:3445: calling dropout (from tensorflow.python.ops.nn_ops) with keep_prob is deprecated and will be removed in a future version.\n",
            "Instructions for updating:\n",
            "Please use `rate` instead of `keep_prob`. Rate should be set to `rate = 1 - keep_prob`.\n",
            "WARNING:tensorflow:From /usr/local/lib/python3.6/dist-packages/tensorflow/python/ops/math_ops.py:3066: to_int32 (from tensorflow.python.ops.math_ops) is deprecated and will be removed in a future version.\n",
            "Instructions for updating:\n",
            "Use tf.cast instead.\n",
            "Train on 10000 samples, validate on 1000 samples\n",
            "Epoch 1/50\n",
            "10000/10000 [==============================] - 6s 555us/step - loss: 0.9387 - acc: 0.7377 - val_loss: 0.4773 - val_acc: 0.8440\n",
            "\n",
            "Epoch 00001: val_loss improved from inf to 0.47730, saving model to model.best.hdf5\n",
            "Epoch 2/50\n",
            "10000/10000 [==============================] - 3s 329us/step - loss: 0.4813 - acc: 0.8528 - val_loss: 0.4511 - val_acc: 0.8640\n",
            "\n",
            "Epoch 00002: val_loss improved from 0.47730 to 0.45114, saving model to model.best.hdf5\n",
            "Epoch 3/50\n",
            "10000/10000 [==============================] - 3s 329us/step - loss: 0.4001 - acc: 0.8801 - val_loss: 0.4039 - val_acc: 0.8900\n",
            "\n",
            "Epoch 00003: val_loss improved from 0.45114 to 0.40388, saving model to model.best.hdf5\n",
            "Epoch 4/50\n",
            "10000/10000 [==============================] - 3s 328us/step - loss: 0.3370 - acc: 0.8978 - val_loss: 0.4305 - val_acc: 0.8880\n",
            "\n",
            "Epoch 00004: val_loss did not improve from 0.40388\n",
            "Epoch 5/50\n",
            "10000/10000 [==============================] - 3s 331us/step - loss: 0.3040 - acc: 0.9063 - val_loss: 0.4098 - val_acc: 0.8920\n",
            "\n",
            "Epoch 00005: val_loss did not improve from 0.40388\n",
            "Epoch 6/50\n",
            "10000/10000 [==============================] - 3s 330us/step - loss: 0.2451 - acc: 0.9233 - val_loss: 0.4839 - val_acc: 0.8820\n",
            "\n",
            "Epoch 00006: val_loss did not improve from 0.40388\n",
            "Epoch 7/50\n",
            "10000/10000 [==============================] - 3s 329us/step - loss: 0.2367 - acc: 0.9248 - val_loss: 0.4701 - val_acc: 0.8810\n",
            "\n",
            "Epoch 00007: val_loss did not improve from 0.40388\n",
            "Epoch 8/50\n",
            "10000/10000 [==============================] - 3s 330us/step - loss: 0.2061 - acc: 0.9322 - val_loss: 0.4549 - val_acc: 0.8880\n",
            "\n",
            "Epoch 00008: val_loss did not improve from 0.40388\n",
            "Epoch 9/50\n",
            "10000/10000 [==============================] - 3s 327us/step - loss: 0.1914 - acc: 0.9379 - val_loss: 0.5279 - val_acc: 0.8800\n",
            "\n",
            "Epoch 00009: val_loss did not improve from 0.40388\n",
            "Epoch 10/50\n",
            "10000/10000 [==============================] - 3s 328us/step - loss: 0.1757 - acc: 0.9441 - val_loss: 0.6468 - val_acc: 0.8650\n",
            "\n",
            "Epoch 00010: val_loss did not improve from 0.40388\n",
            "Epoch 11/50\n",
            "10000/10000 [==============================] - 3s 327us/step - loss: 0.1614 - acc: 0.9481 - val_loss: 0.5027 - val_acc: 0.8940\n",
            "\n",
            "Epoch 00011: val_loss did not improve from 0.40388\n",
            "Epoch 12/50\n",
            "10000/10000 [==============================] - 3s 332us/step - loss: 0.1473 - acc: 0.9519 - val_loss: 0.5274 - val_acc: 0.8930\n",
            "\n",
            "Epoch 00012: val_loss did not improve from 0.40388\n",
            "Epoch 13/50\n",
            "10000/10000 [==============================] - 3s 325us/step - loss: 0.1319 - acc: 0.9591 - val_loss: 0.5967 - val_acc: 0.8880\n",
            "\n",
            "Epoch 00013: val_loss did not improve from 0.40388\n",
            "Epoch 14/50\n",
            "10000/10000 [==============================] - 3s 327us/step - loss: 0.1333 - acc: 0.9572 - val_loss: 0.5958 - val_acc: 0.8860\n",
            "\n",
            "Epoch 00014: val_loss did not improve from 0.40388\n",
            "Epoch 15/50\n",
            "10000/10000 [==============================] - 3s 326us/step - loss: 0.1255 - acc: 0.9600 - val_loss: 0.6571 - val_acc: 0.8890\n",
            "\n",
            "Epoch 00015: val_loss did not improve from 0.40388\n",
            "Epoch 16/50\n",
            "10000/10000 [==============================] - 3s 325us/step - loss: 0.1171 - acc: 0.9625 - val_loss: 0.6118 - val_acc: 0.8890\n",
            "\n",
            "Epoch 00016: val_loss did not improve from 0.40388\n",
            "Epoch 17/50\n",
            "10000/10000 [==============================] - 3s 332us/step - loss: 0.1083 - acc: 0.9669 - val_loss: 0.6364 - val_acc: 0.8890\n",
            "\n",
            "Epoch 00017: val_loss did not improve from 0.40388\n",
            "Epoch 18/50\n",
            "10000/10000 [==============================] - 3s 330us/step - loss: 0.1102 - acc: 0.9640 - val_loss: 0.6331 - val_acc: 0.8860\n",
            "\n",
            "Epoch 00018: val_loss did not improve from 0.40388\n",
            "Epoch 19/50\n",
            "10000/10000 [==============================] - 3s 330us/step - loss: 0.0957 - acc: 0.9701 - val_loss: 0.7335 - val_acc: 0.8850\n",
            "\n",
            "Epoch 00019: val_loss did not improve from 0.40388\n",
            "Epoch 20/50\n",
            "10000/10000 [==============================] - 3s 329us/step - loss: 0.0979 - acc: 0.9702 - val_loss: 0.7187 - val_acc: 0.8880\n",
            "\n",
            "Epoch 00020: val_loss did not improve from 0.40388\n",
            "Epoch 21/50\n",
            "10000/10000 [==============================] - 3s 329us/step - loss: 0.0969 - acc: 0.9707 - val_loss: 0.7459 - val_acc: 0.8880\n",
            "\n",
            "Epoch 00021: val_loss did not improve from 0.40388\n",
            "Epoch 22/50\n",
            "10000/10000 [==============================] - 3s 338us/step - loss: 0.0933 - acc: 0.9709 - val_loss: 0.7145 - val_acc: 0.8920\n",
            "\n",
            "Epoch 00022: val_loss did not improve from 0.40388\n",
            "Epoch 23/50\n",
            "10000/10000 [==============================] - 3s 337us/step - loss: 0.0875 - acc: 0.9740 - val_loss: 0.7804 - val_acc: 0.8870\n",
            "\n",
            "Epoch 00023: val_loss did not improve from 0.40388\n",
            "Epoch 24/50\n",
            "10000/10000 [==============================] - 3s 334us/step - loss: 0.0833 - acc: 0.9738 - val_loss: 0.7807 - val_acc: 0.8860\n",
            "\n",
            "Epoch 00024: val_loss did not improve from 0.40388\n",
            "Epoch 25/50\n",
            "10000/10000 [==============================] - 3s 334us/step - loss: 0.0843 - acc: 0.9739 - val_loss: 0.7278 - val_acc: 0.8920\n",
            "\n",
            "Epoch 00025: val_loss did not improve from 0.40388\n",
            "Epoch 26/50\n",
            "10000/10000 [==============================] - 3s 332us/step - loss: 0.0834 - acc: 0.9754 - val_loss: 0.7452 - val_acc: 0.8920\n",
            "\n",
            "Epoch 00026: val_loss did not improve from 0.40388\n",
            "Epoch 27/50\n",
            "10000/10000 [==============================] - 3s 334us/step - loss: 0.0798 - acc: 0.9779 - val_loss: 0.7950 - val_acc: 0.8900\n",
            "\n",
            "Epoch 00027: val_loss did not improve from 0.40388\n",
            "Epoch 28/50\n",
            "10000/10000 [==============================] - 3s 335us/step - loss: 0.0801 - acc: 0.9778 - val_loss: 0.7773 - val_acc: 0.8980\n",
            "\n",
            "Epoch 00028: val_loss did not improve from 0.40388\n",
            "Epoch 29/50\n",
            "10000/10000 [==============================] - 3s 329us/step - loss: 0.0748 - acc: 0.9786 - val_loss: 0.8175 - val_acc: 0.8870\n",
            "\n",
            "Epoch 00029: val_loss did not improve from 0.40388\n",
            "Epoch 30/50\n",
            "10000/10000 [==============================] - 3s 322us/step - loss: 0.0718 - acc: 0.9790 - val_loss: 0.7808 - val_acc: 0.8920\n",
            "\n",
            "Epoch 00030: val_loss did not improve from 0.40388\n",
            "Epoch 31/50\n",
            "10000/10000 [==============================] - 3s 320us/step - loss: 0.0666 - acc: 0.9799 - val_loss: 0.7876 - val_acc: 0.8930\n",
            "\n",
            "Epoch 00031: val_loss did not improve from 0.40388\n",
            "Epoch 32/50\n",
            "10000/10000 [==============================] - 3s 325us/step - loss: 0.0769 - acc: 0.9799 - val_loss: 0.8000 - val_acc: 0.8960\n",
            "\n",
            "Epoch 00032: val_loss did not improve from 0.40388\n",
            "Epoch 33/50\n",
            "10000/10000 [==============================] - 3s 325us/step - loss: 0.0707 - acc: 0.9801 - val_loss: 0.9035 - val_acc: 0.8890\n",
            "\n",
            "Epoch 00033: val_loss did not improve from 0.40388\n",
            "Epoch 34/50\n",
            "10000/10000 [==============================] - 3s 324us/step - loss: 0.0700 - acc: 0.9796 - val_loss: 0.7877 - val_acc: 0.8990\n",
            "\n",
            "Epoch 00034: val_loss did not improve from 0.40388\n",
            "Epoch 35/50\n",
            "10000/10000 [==============================] - 3s 322us/step - loss: 0.0704 - acc: 0.9815 - val_loss: 0.9014 - val_acc: 0.8830\n",
            "\n",
            "Epoch 00035: val_loss did not improve from 0.40388\n",
            "Epoch 36/50\n",
            "10000/10000 [==============================] - 3s 323us/step - loss: 0.0692 - acc: 0.9822 - val_loss: 0.8747 - val_acc: 0.8930\n",
            "\n",
            "Epoch 00036: val_loss did not improve from 0.40388\n",
            "Epoch 37/50\n",
            "10000/10000 [==============================] - 3s 323us/step - loss: 0.0725 - acc: 0.9795 - val_loss: 0.9434 - val_acc: 0.8910\n",
            "\n",
            "Epoch 00037: val_loss did not improve from 0.40388\n",
            "Epoch 38/50\n",
            "10000/10000 [==============================] - 3s 325us/step - loss: 0.0625 - acc: 0.9831 - val_loss: 0.8440 - val_acc: 0.9000\n",
            "\n",
            "Epoch 00038: val_loss did not improve from 0.40388\n",
            "Epoch 39/50\n",
            "10000/10000 [==============================] - 3s 324us/step - loss: 0.0634 - acc: 0.9836 - val_loss: 0.8796 - val_acc: 0.8930\n",
            "\n",
            "Epoch 00039: val_loss did not improve from 0.40388\n",
            "Epoch 40/50\n",
            "10000/10000 [==============================] - 3s 319us/step - loss: 0.0685 - acc: 0.9838 - val_loss: 0.8387 - val_acc: 0.8850\n",
            "\n",
            "Epoch 00040: val_loss did not improve from 0.40388\n",
            "Epoch 41/50\n",
            "10000/10000 [==============================] - 3s 321us/step - loss: 0.0654 - acc: 0.9805 - val_loss: 0.9252 - val_acc: 0.8810\n",
            "\n",
            "Epoch 00041: val_loss did not improve from 0.40388\n",
            "Epoch 42/50\n",
            "10000/10000 [==============================] - 3s 322us/step - loss: 0.0551 - acc: 0.9849 - val_loss: 0.9391 - val_acc: 0.8890\n",
            "\n",
            "Epoch 00042: val_loss did not improve from 0.40388\n",
            "Epoch 43/50\n",
            "10000/10000 [==============================] - 3s 320us/step - loss: 0.0682 - acc: 0.9839 - val_loss: 0.9656 - val_acc: 0.8920\n",
            "\n",
            "Epoch 00043: val_loss did not improve from 0.40388\n",
            "Epoch 44/50\n",
            "10000/10000 [==============================] - 3s 320us/step - loss: 0.0686 - acc: 0.9824 - val_loss: 0.9151 - val_acc: 0.8950\n",
            "\n",
            "Epoch 00044: val_loss did not improve from 0.40388\n",
            "Epoch 45/50\n",
            "10000/10000 [==============================] - 3s 318us/step - loss: 0.0674 - acc: 0.9822 - val_loss: 0.9941 - val_acc: 0.8870\n",
            "\n",
            "Epoch 00045: val_loss did not improve from 0.40388\n",
            "Epoch 46/50\n",
            "10000/10000 [==============================] - 3s 318us/step - loss: 0.0589 - acc: 0.9832 - val_loss: 0.9868 - val_acc: 0.8900\n",
            "\n",
            "Epoch 00046: val_loss did not improve from 0.40388\n",
            "Epoch 47/50\n",
            "10000/10000 [==============================] - 3s 318us/step - loss: 0.0596 - acc: 0.9841 - val_loss: 0.9528 - val_acc: 0.8890\n",
            "\n",
            "Epoch 00047: val_loss did not improve from 0.40388\n",
            "Epoch 48/50\n",
            "10000/10000 [==============================] - 3s 321us/step - loss: 0.0593 - acc: 0.9844 - val_loss: 0.9508 - val_acc: 0.8890\n",
            "\n",
            "Epoch 00048: val_loss did not improve from 0.40388\n",
            "Epoch 49/50\n",
            "10000/10000 [==============================] - 3s 320us/step - loss: 0.0509 - acc: 0.9850 - val_loss: 0.9444 - val_acc: 0.8940\n",
            "\n",
            "Epoch 00049: val_loss did not improve from 0.40388\n",
            "Epoch 50/50\n",
            "10000/10000 [==============================] - 3s 318us/step - loss: 0.0579 - acc: 0.9854 - val_loss: 0.9102 - val_acc: 0.8990\n",
            "\n",
            "Epoch 00050: val_loss did not improve from 0.40388\n"
          ],
          "name": "stdout"
        },
        {
          "output_type": "execute_result",
          "data": {
            "text/plain": [
              "<keras.callbacks.History at 0x7efebc0d3b38>"
            ]
          },
          "metadata": {
            "tags": []
          },
          "execution_count": 13
        }
      ]
    },
    {
      "metadata": {
        "id": "eBW9tH9Wjcej",
        "colab_type": "code",
        "outputId": "e589867a-93d1-4f9e-ac39-a381f7dd48bc",
        "colab": {
          "base_uri": "https://localhost:8080/",
          "height": 34
        }
      },
      "cell_type": "code",
      "source": [
        "# load the weights that yielded the best validation accuracy\n",
        "model.load_weights('model.best.hdf5')\n",
        "\n",
        "# evaluate test accuracy\n",
        "score = model.evaluate(features_test, y_test, verbose=0)\n",
        "accuracy = 100*score[1]\n",
        "\n",
        "# print test accuracy\n",
        "print('Test accuracy: %.4f%%' % accuracy)"
      ],
      "execution_count": 14,
      "outputs": [
        {
          "output_type": "stream",
          "text": [
            "Test accuracy: 89.0000%\n"
          ],
          "name": "stdout"
        }
      ]
    },
    {
      "metadata": {
        "id": "NtTT1qdgzQkr",
        "colab_type": "code",
        "colab": {}
      },
      "cell_type": "code",
      "source": [
        "  "
      ],
      "execution_count": 0,
      "outputs": []
    },
    {
      "metadata": {
        "id": "QrmvvC7IvgEe",
        "colab_type": "code",
        "colab": {}
      },
      "cell_type": "code",
      "source": [
        ""
      ],
      "execution_count": 0,
      "outputs": []
    }
  ]
}